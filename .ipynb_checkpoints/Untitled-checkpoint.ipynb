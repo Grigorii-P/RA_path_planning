{
 "cells": [
  {
   "cell_type": "code",
   "execution_count": 1,
   "metadata": {},
   "outputs": [],
   "source": [
    "import osmgraph\n",
    "import geog\n",
    "import networkx as nx\n",
    "import geojsonio\n",
    "import json\n",
    "import itertools"
   ]
  },
  {
   "cell_type": "code",
   "execution_count": 2,
   "metadata": {},
   "outputs": [
    {
     "data": {
      "text/plain": [
       "u'http://geojson.io/#data=data:application/json,%7B%22type%22%3A%20%22LineString%22%2C%20%22coordinates%22%3A%20%5B%5B48.7405838%2C%2055.7531753%5D%2C%20%5B48.7411942%2C%2055.7530809%5D%2C%20%5B48.7418133%2C%2055.7529601%5D%2C%20%5B48.7417277%2C%2055.7527746%5D%2C%20%5B48.7416733%2C%2055.7526719%5D%2C%20%5B48.7424748%2C%2055.7525098%5D%2C%20%5B48.7424018%2C%2055.7523315%5D%2C%20%5B48.7422733%2C%2055.7520407%5D%2C%20%5B48.741932%2C%2055.7513066%5D%2C%20%5B48.7417176%2C%2055.7508567%5D%2C%20%5B48.7420064%2C%2055.750808%5D%2C%20%5B48.7423315%2C%2055.7507465%5D%2C%20%5B48.7422892%2C%2055.7506569%5D%2C%20%5B48.7426642%2C%2055.7505391%5D%2C%20%5B48.7427417%2C%2055.7505147%5D%2C%20%5B48.7429296%2C%2055.750447%5D%2C%20%5B48.74207%2C%2055.7495852%5D%2C%20%5B48.7400007%2C%2055.747811%5D%2C%20%5B48.740149%2C%2055.7477603%5D%2C%20%5B48.7404343%2C%2055.7476626%5D%2C%20%5B48.7403208%2C%2055.7475817%5D%2C%20%5B48.7402912%2C%2055.7475579%5D%2C%20%5B48.740492%2C%2055.7474739%5D%2C%20%5B48.7405422%2C%2055.7474401%5D%2C%20%5B48.7406409%2C%2055.7473735%5D%2C%20%5B48.7409455%2C%2055.7472665%5D%2C%20%5B48.7410727%2C%2055.7472218%5D%2C%20%5B48.7413997%2C%2055.7471069%5D%2C%20%5B48.7415844%2C%2055.747042%5D%2C%20%5B48.7421887%2C%2055.7468297%5D%2C%20%5B48.7424092%2C%2055.7467522%5D%2C%20%5B48.7425605%2C%2055.746699%5D%2C%20%5B48.7426246%2C%2055.7466765%5D%2C%20%5B48.7427679%2C%2055.7466262%5D%2C%20%5B48.742855%2C%2055.74655%5D%2C%20%5B48.7430039%2C%2055.746501%5D%2C%20%5B48.7433164%2C%2055.7463983%5D%2C%20%5B48.7435061%2C%2055.7463359%5D%2C%20%5B48.7435806%2C%2055.7463114%5D%2C%20%5B48.743657%2C%2055.7463152%5D%2C%20%5B48.7440592%2C%2055.7461769%5D%2C%20%5B48.7444872%2C%2055.7459846%5D%2C%20%5B48.74497%2C%2055.7458714%5D%5D%7D'"
      ]
     },
     "execution_count": 2,
     "metadata": {},
     "output_type": "execute_result"
    }
   ],
   "source": [
    "filename = '/Users/grigoriipogorelov/Downloads/map_inno.osm'\n",
    "g = osmgraph.parse_file(filename)\n",
    "\n",
    "for n1, n2 in g.edges():\n",
    "    c1, c2 = osmgraph.tools.coordinates(g, (n1, n2))   \n",
    "    g[n1][n2]['length'] = geog.distance(c1, c2)\n",
    "    \n",
    "start = 3598458167\n",
    "# end = 4380221998\n",
    "end = 4895039587\n",
    "path = nx.shortest_path(g, start, end, 'length')\n",
    "coords = osmgraph.tools.coordinates(g, path)\n",
    "\n",
    "geojsonio.display(json.dumps({'type': 'LineString', 'coordinates': coords}))"
   ]
  },
  {
   "cell_type": "code",
   "execution_count": 3,
   "metadata": {},
   "outputs": [
    {
     "name": "stdout",
     "output_type": "stream",
     "text": [
      "1197.4513642072118\n"
     ]
    }
   ],
   "source": [
    "dist = 0\n",
    "for n1, n2 in osmgraph.tools.pairwise(path):\n",
    "    dist += g[n1][n2]['length']\n",
    "print(dist)"
   ]
  },
  {
   "cell_type": "code",
   "execution_count": null,
   "metadata": {},
   "outputs": [],
   "source": []
  }
 ],
 "metadata": {
  "kernelspec": {
   "display_name": "RA_project",
   "language": "python",
   "name": "ra_project"
  },
  "language_info": {
   "codemirror_mode": {
    "name": "ipython",
    "version": 2
   },
   "file_extension": ".py",
   "mimetype": "text/x-python",
   "name": "python",
   "nbconvert_exporter": "python",
   "pygments_lexer": "ipython2",
   "version": "2.7.10"
  }
 },
 "nbformat": 4,
 "nbformat_minor": 2
}
