{
 "cells": [
  {
   "cell_type": "code",
   "execution_count": 1,
   "metadata": {},
   "outputs": [],
   "source": [
    "import osmgraph\n",
    "import geog\n",
    "import networkx as nx\n",
    "import geojsonio\n",
    "import json\n",
    "import itertools\n",
    "from astar import A_star \n",
    "from time import time"
   ]
  },
  {
   "cell_type": "code",
   "execution_count": 2,
   "metadata": {},
   "outputs": [],
   "source": [
    "# filename = '/Users/grigoriipogorelov/Downloads/map_inno.osm'\n",
    "filename = '/Users/grigoriipogorelov/Downloads/map_kazan.osm'\n",
    "g = osmgraph.parse_file(filename)\n",
    "\n",
    "valid_nodes = {}\n",
    "for n1, n2 in g.edges():\n",
    "    valid_nodes[n1] = 0\n",
    "    valid_nodes[n2] = 0\n",
    "    c1, c2 = osmgraph.tools.coordinates(g, (n1, n2))\n",
    "    g[n1][n2]['length'] = geog.distance(c1, c2)"
   ]
  },
  {
   "cell_type": "code",
   "execution_count": 8,
   "metadata": {},
   "outputs": [
    {
     "name": "stdout",
     "output_type": "stream",
     "text": [
      "path search time is 0.0 min\n",
      "path search time is 0.0 min\n",
      "path search time is 0.0 min\n",
      "path search time is 0.0 min\n",
      "path search time is 0.0 min\n",
      "path search time is 0.0 min\n",
      "path search time is 0.0 min\n",
      "path search time is 0.0 min\n",
      "path search time is 0.0 min\n"
     ]
    }
   ],
   "source": [
    "src = 1813517414\n",
    "dst = 1233424921\n",
    "\n",
    "k_range = 2\n",
    "a_star = A_star(g, valid_nodes)\n",
    "start = time()\n",
    "a_star_path, _ = a_star.a_star_search(src,dst, k_range)\n",
    "end = time()\n",
    "print('path search time is %.1f min' % ((end-start)/60))\n",
    "coords = osmgraph.tools.coordinates(g, a_star_path)\n",
    "path = nx.shortest_path(g, src, dst, 'length')\n",
    "coords2 = osmgraph.tools.coordinates(g, path)\n",
    "\n",
    "# geojsonio.display(json.dumps({'type': 'LineString', 'coordinates': coords}))\n",
    "geojsonio.display(json.dumps([{'type': 'LineString', 'coordinates': coords2},{'type': 'LineString', 'coordinates': coords}]))"
   ]
  }
 ],
 "metadata": {
  "kernelspec": {
   "display_name": "RA_project",
   "language": "python",
   "name": "ra_project"
  },
  "language_info": {
   "codemirror_mode": {
    "name": "ipython",
    "version": 2
   },
   "file_extension": ".py",
   "mimetype": "text/x-python",
   "name": "python",
   "nbconvert_exporter": "python",
   "pygments_lexer": "ipython2",
   "version": "2.7.10"
  }
 },
 "nbformat": 4,
 "nbformat_minor": 2
}
